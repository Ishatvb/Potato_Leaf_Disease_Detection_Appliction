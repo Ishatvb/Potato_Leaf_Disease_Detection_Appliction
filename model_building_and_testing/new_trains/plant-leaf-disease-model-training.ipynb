{
 "cells": [
  {
   "cell_type": "code",
   "execution_count": 5,
   "id": "b6c8fda2",
   "metadata": {
    "tags": []
   },
   "outputs": [],
   "source": [
    "import matplotlib.pyplot as plt\n",
    "import numpy as np\n",
    "import cv2\n",
    "import os\n",
    "import gc\n",
    "import PIL\n",
    "import tensorflow as tf\n",
    "from tensorflow import keras \n"
   ]
  },
  {
   "cell_type": "code",
   "execution_count": 6,
   "id": "d1eeadd8",
   "metadata": {
    "tags": []
   },
   "outputs": [
    {
     "data": {
      "text/plain": [
       "PosixPath('../Dataset/PlantVillage')"
      ]
     },
     "execution_count": 6,
     "metadata": {},
     "output_type": "execute_result"
    }
   ],
   "source": [
    "import pathlib\n",
    "main_dir=\"../Dataset_l/PlantVillage/\"\n",
    "train_dir=os.path.join(main_dir,'train')\n",
    "test_dir=os.path.join(main_dir,'test')\n",
    "valid_dir=os.path.join(main_dir,'validation')\n",
    "\n",
    "data_dir='../Dataset/PlantVillage'\n",
    "#test_dir='Dataset//'\n",
    "data_dir=pathlib.Path(data_dir)\n",
    "#test_dir=pathlib.Path(test_dir)\n",
    "data_dir\n"
   ]
  },
  {
   "cell_type": "code",
   "execution_count": 7,
   "id": "4b2c8300",
   "metadata": {
    "tags": []
   },
   "outputs": [
    {
     "data": {
      "text/plain": [
       "['2_Corn___common rust',\n",
       " '2_Corn___northern leaf blight',\n",
       " '2_Corn___cercospora leaf spot gray leaf spot',\n",
       " '1_Tomato___late blight',\n",
       " '0_Potato___late blight',\n",
       " '1_Tomato___target spot',\n",
       " '1_Tomato___leaf mold',\n",
       " '1_Tomato___healthy',\n",
       " '1_Tomato___bacterial spot',\n",
       " '1_Tomato___early blight',\n",
       " '2_Corn___healthy',\n",
       " '1_Tomato___septoria leaf spot',\n",
       " '1_Tomato___spider mites two-spotted spider mite',\n",
       " '1_Tomato___tomato yellow leaf curl virus',\n",
       " '0_Potato___early blight',\n",
       " '1_Tomato___tomato mosaic virus',\n",
       " '0_Potato___healthy']"
      ]
     },
     "execution_count": 7,
     "metadata": {},
     "output_type": "execute_result"
    }
   ],
   "source": [
    "os.listdir(train_dir)"
   ]
  },
  {
   "cell_type": "code",
   "execution_count": 8,
   "id": "1559355b",
   "metadata": {
    "tags": []
   },
   "outputs": [
    {
     "data": {
      "text/plain": [
       "982"
      ]
     },
     "execution_count": 8,
     "metadata": {},
     "output_type": "execute_result"
    }
   ],
   "source": [
    "gc.collect()\n"
   ]
  },
  {
   "cell_type": "code",
   "execution_count": 17,
   "id": "3da3a103",
   "metadata": {
    "tags": []
   },
   "outputs": [
    {
     "name": "stdout",
     "output_type": "stream",
     "text": [
      "Found 15325 images belonging to 17 classes.\n",
      "Found 2411 images belonging to 17 classes.\n",
      "Found 4344 images belonging to 17 classes.\n"
     ]
    }
   ],
   "source": [
    "from tensorflow.keras.preprocessing.image import ImageDataGenerator\n",
    "\n",
    "train_datagen=ImageDataGenerator(\n",
    "    rescale=1./255,\n",
    "    rotation_range=0.2,\n",
    "    brightness_range=(0.3,0.9),\n",
    "    zoom_range=0.2,\n",
    "    horizontal_flip=True,\n",
    "    vertical_flip=True,\n",
    ")\n",
    "\n",
    "test_datagen=ImageDataGenerator(rescale=1./255)\n",
    "validation_datagen=ImageDataGenerator(rescale=1./255)\n",
    "\n",
    "train_generator=train_datagen.flow_from_directory(\n",
    "    train_dir,\n",
    "    target_size=(180,180),\n",
    "    batch_size=64,\n",
    "    class_mode='categorical'\n",
    ")\n",
    "test_generator=test_datagen.flow_from_directory(\n",
    "    test_dir,\n",
    "    target_size=(180,180),\n",
    "    batch_size=64,\n",
    "    class_mode='categorical'\n",
    ")\n",
    "valid_generator=train_datagen.flow_from_directory(\n",
    "    valid_dir,\n",
    "    target_size=(180,180),\n",
    "    batch_size=64,\n",
    "    class_mode='categorical'\n",
    ") "
   ]
  },
  {
   "cell_type": "code",
   "execution_count": 10,
   "id": "fe32536a",
   "metadata": {
    "tags": []
   },
   "outputs": [
    {
     "data": {
      "text/plain": [
       "{'0_Potato___early blight': 0,\n",
       " '0_Potato___healthy': 1,\n",
       " '0_Potato___late blight': 2,\n",
       " '1_Tomato___bacterial spot': 3,\n",
       " '1_Tomato___early blight': 4,\n",
       " '1_Tomato___healthy': 5,\n",
       " '1_Tomato___late blight': 6,\n",
       " '1_Tomato___leaf mold': 7,\n",
       " '1_Tomato___septoria leaf spot': 8,\n",
       " '1_Tomato___spider mites two-spotted spider mite': 9,\n",
       " '1_Tomato___target spot': 10,\n",
       " '1_Tomato___tomato mosaic virus': 11,\n",
       " '1_Tomato___tomato yellow leaf curl virus': 12,\n",
       " '2_Corn___cercospora leaf spot gray leaf spot': 13,\n",
       " '2_Corn___common rust': 14,\n",
       " '2_Corn___healthy': 15,\n",
       " '2_Corn___northern leaf blight': 16}"
      ]
     },
     "execution_count": 10,
     "metadata": {},
     "output_type": "execute_result"
    }
   ],
   "source": [
    "train_generator.class_indices"
   ]
  },
  {
   "cell_type": "code",
   "execution_count": null,
   "id": "368c7e3e",
   "metadata": {
    "tags": []
   },
   "outputs": [],
   "source": [
    "gc.collect()"
   ]
  },
  {
   "cell_type": "code",
   "execution_count": null,
   "id": "60b270fa",
   "metadata": {
    "tags": []
   },
   "outputs": [],
   "source": [
    "#plt.imshow(augmented_model(X)[0].numpy().astype(\"uint8\"))"
   ]
  },
  {
   "cell_type": "code",
   "execution_count": null,
   "id": "2d89f376",
   "metadata": {
    "tags": []
   },
   "outputs": [],
   "source": [
    "from tensorflow.keras.models import Sequential\n",
    "from tensorflow.keras import layers\n",
    "num_classes=17\n",
    "model=Sequential([\n",
    "    layers.Conv2D(32,3, padding='same', input_shape=(180,180,3), activation='relu'),\n",
    "    layers.MaxPooling2D((2,2)),\n",
    "    layers.Conv2D(64, kernel_size=(3,3), padding='same', activation='relu'),\n",
    "    layers.MaxPooling2D((2,2)),\n",
    "    layers.Conv2D(128, kernel_size=(3,3), padding='same', activation='relu'),\n",
    "    layers.MaxPooling2D((2,2)),\n",
    "    layers.Conv2D(128, kernel_size=(3,3), padding='same', activation='relu'),\n",
    "    layers.MaxPooling2D((2,2)),\n",
    "    layers.Dropout(0.2),\n",
    "    layers.Flatten(),\n",
    "    layers.Dense(128,activation='relu'),\n",
    "    layers.Dense(num_classes,activation='softmax')\n",
    "])\n",
    "model.summary()"
   ]
  },
  {
   "cell_type": "code",
   "execution_count": null,
   "id": "e3a11295",
   "metadata": {
    "tags": []
   },
   "outputs": [],
   "source": [
    "model.compile(optimizer='adam',\n",
    "             loss='categorical_crossentropy',\n",
    "             metrics=['accuracy'])\n",
    "\n"
   ]
  },
  {
   "cell_type": "code",
   "execution_count": null,
   "id": "07887aaf",
   "metadata": {
    "tags": []
   },
   "outputs": [],
   "source": [
    "from keras.callbacks import EarlyStopping\n",
    "es=EarlyStopping(monitor='val_loss',mode='min',verbose=1,patience=5,restore_best_weights=True,start_from_epoch=3)"
   ]
  },
  {
   "cell_type": "code",
   "execution_count": null,
   "id": "79381f92",
   "metadata": {
    "tags": []
   },
   "outputs": [],
   "source": [
    "history=model.fit(train_generator,\n",
    "          validation_data=valid_generator,\n",
    "          epochs=20,\n",
    "          batch_size=64,\n",
    "          callbacks=[es]\n",
    "         )"
   ]
  },
  {
   "cell_type": "code",
   "execution_count": null,
   "id": "f6a7ae9a",
   "metadata": {
    "tags": []
   },
   "outputs": [],
   "source": [
    "model.save('model2.pb')"
   ]
  },
  {
   "cell_type": "code",
   "execution_count": null,
   "id": "d7f04df7",
   "metadata": {
    "tags": []
   },
   "outputs": [],
   "source": [
    "plt.plot(history.epoch,history.history[\"accuracy\"])\n",
    "plt.plot(history.epoch,history.history[\"val_accuracy\"])\n",
    "plt.show()"
   ]
  },
  {
   "cell_type": "code",
   "execution_count": null,
   "id": "df30dc74",
   "metadata": {
    "tags": []
   },
   "outputs": [],
   "source": [
    "plt.plot(history.history[\"loss\"])\n",
    "plt.plot(history.history[\"val_loss\"])\n",
    "plt.show()"
   ]
  },
  {
   "cell_type": "code",
   "execution_count": null,
   "id": "5824c7bd",
   "metadata": {
    "tags": []
   },
   "outputs": [],
   "source": [
    "import gc\n",
    "gc.collect()"
   ]
  },
  {
   "cell_type": "code",
   "execution_count": null,
   "id": "63ee5d40",
   "metadata": {},
   "outputs": [],
   "source": [
    "model=keras.models.load_model('model2.pb')"
   ]
  },
  {
   "cell_type": "code",
   "execution_count": null,
   "id": "2970668a",
   "metadata": {},
   "outputs": [],
   "source": [
    "model.evaluate(test_generator)"
   ]
  },
  {
   "cell_type": "code",
   "execution_count": null,
   "id": "74f22c5b",
   "metadata": {},
   "outputs": [],
   "source": [
    "test_loss,test_acc=model.evaluate(test_generator)\n",
    "print('test acc : {} test loss : {}'.format(test_acc,test_loss))"
   ]
  },
  {
   "cell_type": "code",
   "execution_count": null,
   "id": "a563d158",
   "metadata": {
    "scrolled": true
   },
   "outputs": [],
   "source": [
    "#predictions=[np.argmax(model.predict(np.array([X_test_scaled[i]])))==y_test[i] for i in range(len(X_test_scaled))]"
   ]
  },
  {
   "cell_type": "code",
   "execution_count": null,
   "id": "6743287f",
   "metadata": {},
   "outputs": [],
   "source": []
  },
  {
   "cell_type": "code",
   "execution_count": null,
   "id": "2e241685-eb25-4c9d-8c70-6b4fc6ab0a84",
   "metadata": {},
   "outputs": [],
   "source": []
  }
 ],
 "metadata": {
  "kernelspec": {
   "display_name": "Python 3 (ipykernel)",
   "language": "python",
   "name": "python3"
  },
  "language_info": {
   "codemirror_mode": {
    "name": "ipython",
    "version": 3
   },
   "file_extension": ".py",
   "mimetype": "text/x-python",
   "name": "python",
   "nbconvert_exporter": "python",
   "pygments_lexer": "ipython3",
   "version": "3.11.5"
  }
 },
 "nbformat": 4,
 "nbformat_minor": 5
}
